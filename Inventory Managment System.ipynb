{
 "cells": [
  {
   "cell_type": "code",
   "execution_count": 12,
   "id": "d9355ade-f356-4695-81ad-e9141fff7d9a",
   "metadata": {},
   "outputs": [
    {
     "name": "stdin",
     "output_type": "stream",
     "text": [
      "Enter the string: hello world\n"
     ]
    },
    {
     "name": "stdout",
     "output_type": "stream",
     "text": [
      "['hello', 'world']\n"
     ]
    }
   ],
   "source": [
    "list1=[]\n",
    "sent=input(\"Enter the string:\")\n",
    "new=sent.split()\n",
    "print(new)\n"
   ]
  },
  {
   "cell_type": "code",
   "execution_count": 8,
   "id": "381eb092-f0a5-48f2-8a3f-65ed065f3e1a",
   "metadata": {},
   "outputs": [
    {
     "name": "stdout",
     "output_type": "stream",
     "text": [
      "---------------------------------\n",
      "---------------------------------\n",
      "---------Product Category--------\n",
      "---------------------------------\n",
      "1. Electronics\n",
      "2. Clothing\n",
      "3. Groceries\n",
      "---------------------------------\n"
     ]
    },
    {
     "name": "stdin",
     "output_type": "stream",
     "text": [
      "Enter the Type of product: 1\n"
     ]
    },
    {
     "name": "stdout",
     "output_type": "stream",
     "text": [
      "Select valid category.....!\n",
      "Electronics product\n",
      "1. Charger (Rs.1000)\n",
      "2. Laptop (Rs. 50000)\n",
      "3. Power Bank (Rs. 2000)\n",
      "---------------------------------\n",
      "---------------------------------\n",
      "---------Product Category--------\n",
      "---------------------------------\n",
      "1. Electronics\n",
      "2. Clothing\n",
      "3. Groceries\n",
      "---------------------------------\n"
     ]
    },
    {
     "name": "stdin",
     "output_type": "stream",
     "text": [
      "Enter the Type of product: 2\n"
     ]
    },
    {
     "name": "stdout",
     "output_type": "stream",
     "text": [
      "Select valid category.....!\n",
      "Electronics product\n",
      "1. Formal Outfit (Rs. 2000)\n",
      "2. Traditional outfit (Rs. 3000)\n",
      "3. Western Outfit(Rs. 4000)\n",
      "---------------------------------\n",
      "---------------------------------\n",
      "---------Product Category--------\n",
      "---------------------------------\n",
      "1. Electronics\n",
      "2. Clothing\n",
      "3. Groceries\n",
      "---------------------------------\n"
     ]
    },
    {
     "name": "stdin",
     "output_type": "stream",
     "text": [
      "Enter the Type of product: 0\n"
     ]
    },
    {
     "name": "stdout",
     "output_type": "stream",
     "text": [
      "Enter the valid choice\n",
      "Total sales: 600000\n"
     ]
    }
   ],
   "source": [
    "electronics_count=0\n",
    "clothing_count=0\n",
    "groceries_count=0\n",
    "\n",
    "electronics_price= 500000\n",
    "clothing_price= 100000\n",
    "groceries_price= 340000\n",
    "\n",
    "while True:\n",
    "    print(\"---------------------------------\")\n",
    "    print(\"---------------------------------\")\n",
    "    print(\"---------Product Category--------\")\n",
    "    print(\"---------------------------------\")\n",
    "    print(\"1. Electronics\")\n",
    "    print(\"2. Clothing\")\n",
    "    print(\"3. Groceries\")\n",
    "    print(\"---------------------------------\")\n",
    "    choice=int(input(\"Enter the Type of product:\"))\n",
    "    if choice==0:\n",
    "        print(\"Enter the valid choice\")\n",
    "        break\n",
    "    elif choice==1:\n",
    "               electronics_count+=1\n",
    "               print(\"Select valid category.....!\")\n",
    "               print(\"Electronics product\")\n",
    "               print(\"1. Charger (Rs.1000)\")\n",
    "               print(\"2. Laptop (Rs. 50000)\")\n",
    "               print(\"3. Power Bank (Rs. 2000)\")\n",
    "    elif choice==2:\n",
    "               clothing_count+=1\n",
    "               print(\"Select valid category.....!\")\n",
    "               print(\"Electronics product\")\n",
    "               print(\"1. Formal Outfit (Rs. 2000)\")\n",
    "               print(\"2. Traditional outfit (Rs. 3000)\")\n",
    "               print(\"3. Western Outfit(Rs. 4000)\")\n",
    "    elif choice==3:\n",
    "               groceries_count+=1\n",
    "               print(\"Select valid category.....!\")\n",
    "               print(\"Electronics product\")\n",
    "               print(\"1. Veg (Rs. 200)\")\n",
    "               print(\"2. Fruits (Rs. 400)\")\n",
    "total_sales= electronics_count*electronics_price+clothing_count*clothing_price+groceries_count*groceries_price\n",
    "print(\"Total sales:\",total_sales)\n"
   ]
  },
  {
   "cell_type": "code",
   "execution_count": null,
   "id": "b67c3793-5a73-4408-9a5d-84c82e500106",
   "metadata": {},
   "outputs": [],
   "source": []
  },
  {
   "cell_type": "code",
   "execution_count": null,
   "id": "3068f082-c1a8-43dc-b01e-9333eece0a3e",
   "metadata": {},
   "outputs": [],
   "source": []
  },
  {
   "cell_type": "code",
   "execution_count": null,
   "id": "51a2c203-db21-4573-bf3d-e1d43fe0f2b9",
   "metadata": {},
   "outputs": [],
   "source": []
  }
 ],
 "metadata": {
  "kernelspec": {
   "display_name": "Python 3 (ipykernel)",
   "language": "python",
   "name": "python3"
  },
  "language_info": {
   "codemirror_mode": {
    "name": "ipython",
    "version": 3
   },
   "file_extension": ".py",
   "mimetype": "text/x-python",
   "name": "python",
   "nbconvert_exporter": "python",
   "pygments_lexer": "ipython3",
   "version": "3.12.7"
  }
 },
 "nbformat": 4,
 "nbformat_minor": 5
}
